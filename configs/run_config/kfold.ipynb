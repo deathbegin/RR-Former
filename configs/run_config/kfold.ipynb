{
 "cells": [
  {
   "cell_type": "code",
   "execution_count": 7,
   "metadata": {
    "collapsed": true
   },
   "outputs": [],
   "source": [
    "from sklearn.model_selection import KFold\n",
    "import numpy as np"
   ]
  },
  {
   "cell_type": "code",
   "execution_count": 43,
   "outputs": [
    {
     "name": "stdout",
     "output_type": "stream",
     "text": [
      "0 [0 1 3 4 5] [2]\n",
      "['01434025' '03504000' '03450000' '06311000' '06332515'] ['03604000']\n",
      "1 [0 2 3 4 5] [1]\n",
      "['01434025' '03604000' '03450000' '06311000' '06332515'] ['03504000']\n",
      "2 [0 1 2 3 4] [5]\n",
      "['01434025' '03504000' '03604000' '03450000' '06311000'] ['06332515']\n",
      "3 [1 2 3 4 5] [0]\n",
      "['03504000' '03604000' '03450000' '06311000' '06332515'] ['01434025']\n",
      "4 [0 1 2 3 5] [4]\n",
      "['01434025' '03504000' '03604000' '03450000' '06332515'] ['06311000']\n",
      "5 [0 1 2 4 5] [3]\n",
      "['01434025' '03504000' '03604000' '06311000' '06332515'] ['03450000']\n"
     ]
    }
   ],
   "source": [
    "basins = [\"01434025\", \"03504000\", \"03604000\", \"03450000\", \"06311000\", \"06332515\"]\n",
    "basins = np.array(basins)\n",
    "\n",
    "kfold = KFold(n_splits=6, shuffle=True, random_state=1234)\n",
    "for split, (train_idx, test_idx) in enumerate(kfold.split(basins)):\n",
    "    print(split, train_idx, test_idx)\n",
    "    print(basins[train_idx], basins[test_idx])"
   ],
   "metadata": {
    "collapsed": false
   }
  },
  {
   "cell_type": "code",
   "execution_count": 47,
   "outputs": [
    {
     "name": "stdout",
     "output_type": "stream",
     "text": [
      "[0 1 3 4 5] [2]\n",
      "['01434025' '03504000' '03450000' '06311000' '06332515'] ['03604000']\n"
     ]
    }
   ],
   "source": [
    "basins = [\"01434025\", \"03504000\", \"03604000\", \"03450000\", \"06311000\", \"06332515\"]\n",
    "basins = np.array(basins)\n",
    "\n",
    "train_idx, test_idx = list(kfold.split(basins))[0]\n",
    "print(train_idx, test_idx)\n",
    "print(basins[train_idx], basins[test_idx])"
   ],
   "metadata": {
    "collapsed": false
   }
  }
 ],
 "metadata": {
  "kernelspec": {
   "display_name": "Python 3",
   "language": "python",
   "name": "python3"
  },
  "language_info": {
   "codemirror_mode": {
    "name": "ipython",
    "version": 2
   },
   "file_extension": ".py",
   "mimetype": "text/x-python",
   "name": "python",
   "nbconvert_exporter": "python",
   "pygments_lexer": "ipython2",
   "version": "2.7.6"
  }
 },
 "nbformat": 4,
 "nbformat_minor": 0
}
