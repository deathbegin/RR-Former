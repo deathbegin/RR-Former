{
 "cells": [
  {
   "cell_type": "markdown",
   "source": [
    "## ATPE-1%\n"
   ],
   "metadata": {
    "collapsed": false,
    "pycharm": {
     "name": "#%% md\n"
    }
   }
  },
  {
   "cell_type": "code",
   "execution_count": 19,
   "metadata": {
    "collapsed": true,
    "pycharm": {
     "name": "#%%\n"
    }
   },
   "outputs": [
    {
     "name": "stdout",
     "output_type": "stream",
     "text": [
      "[1 2 0 3 4]\n",
      "[1 2 3 4 5]\n"
     ]
    },
    {
     "data": {
      "text/plain": "array([3, 2])"
     },
     "execution_count": 19,
     "metadata": {},
     "output_type": "execute_result"
    }
   ],
   "source": [
    "import numpy as np\n",
    "\n",
    "test = np.array([3, 1, 2, 4, 5])\n",
    "print(np.argsort(test))\n",
    "print(np.sort(test))\n",
    "test[np.argsort(test) < 2]\n"
   ]
  },
  {
   "cell_type": "code",
   "execution_count": null,
   "outputs": [],
   "source": [
    "from pathlib import Path\n",
    "\n",
    "base_1 = Path(\n",
    "    \"Transformer_NAR_[64-4-4-256-0.1]@daymet_4huc_t01_1980~1995#1995~2000#2000~2014@15|14+1[33+1]@NSELoss_n200_bs512_lr0.001_warm_up@seed1234\")\n",
    "\n",
    "base_2 = Path(\n",
    "    \"4huc_test_search/Transformer_NAR_[64-4-4-256-0.1]@daymet_4huc_t01_1980~1995#1995~2000#2000~2014@15|14+1[33+1]@NSELoss_n40_bs512_lr0.0002_warm_up@dp0.1@seed1234\")\n",
    "\n"
   ],
   "metadata": {
    "collapsed": false,
    "pycharm": {
     "name": "#%%\n"
    }
   }
  }
 ],
 "metadata": {
  "kernelspec": {
   "display_name": "Python 3",
   "language": "python",
   "name": "python3"
  },
  "language_info": {
   "codemirror_mode": {
    "name": "ipython",
    "version": 2
   },
   "file_extension": ".py",
   "mimetype": "text/x-python",
   "name": "python",
   "nbconvert_exporter": "python",
   "pygments_lexer": "ipython2",
   "version": "2.7.6"
  }
 },
 "nbformat": 4,
 "nbformat_minor": 0
}